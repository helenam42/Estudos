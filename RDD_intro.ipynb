{
  "nbformat": 4,
  "nbformat_minor": 0,
  "metadata": {
    "colab": {
      "name": "RDD_intro.ipynb",
      "provenance": [],
      "authorship_tag": "ABX9TyMWnm8snboUJ7wmg2MZFBEh",
      "include_colab_link": true
    },
    "kernelspec": {
      "name": "python3",
      "display_name": "Python 3"
    },
    "language_info": {
      "name": "python"
    }
  },
  "cells": [
    {
      "cell_type": "markdown",
      "metadata": {
        "id": "view-in-github",
        "colab_type": "text"
      },
      "source": [
        "<a href=\"https://colab.research.google.com/github/helenam42/Estudos/blob/main/RDD_intro.ipynb\" target=\"_parent\"><img src=\"https://colab.research.google.com/assets/colab-badge.svg\" alt=\"Open In Colab\"/></a>"
      ]
    },
    {
      "cell_type": "markdown",
      "source": [
        "# RDD - Resilient Distributed Dataset\n",
        "\n",
        "O conjunto de dados resilientes e distribuídos ou RDD (Resilient Distributed Datasets) é o conceito central do framework Spark. Imagine o RDD como uma tabela do banco de dados que pode guardar qualquer tipo de dado. O Spark armazena os dados do RDD em diferentes partições. Isso ajuda a reorganização computacional e a otimização no processamento dos dados.\n",
        "\n",
        "Os RDDs são o principal componente para a programação no Spark, pois eles armazenam os dados na memória, podendo fazer diversas operações. A maioria dos programas em Spark consistem em manipular RDDs.\n",
        "\n",
        "*   **R**esilient: se dados na memória são perdidos, podem ser recriados.\n",
        "*   **D**istributed: armazenados na memória por todo o cluster.\n",
        "*   **D**atasets: dados iniciais podem vir de um arquivo ou ser criado programaticamente.\n",
        "\n",
        "Os RDDs são imutáveis. Ainda que aparentemente seja possível modificar um RDD com uma transformação, na verdade o resultado dessa transformação é um novo RDD, sendo que o original permanece intocável.\n",
        "\n",
        "Existem dois tipos de operações com RDDs:\n",
        "\n",
        "1.  **Transformação**: é uma operação que possui um RDD de entrada e produz um RDD de saída (por exemplo, filtros e mapeamentos).\n",
        "\n",
        "2.  **Ação**: é uma operação aplicada em um RDD para produzir um só valor. \n",
        "Em suma, transformações são aplicadas para gerar outro RDD enquanto ações são usadas para gerar um resultado que não seja RDD (por exemplo, realizar algum cálculo com os valores do RDD ou salvar os dados em um arquivo).\n",
        "\n",
        "Fontes:\n",
        "\n",
        "[A Comprehensive Guide to PySpark RDD Operations \n",
        "](https://www.analyticsvidhya.com/blog/2021/10/a-comprehensive-guide-to-pyspark-rdd-operations/)\n",
        "\n",
        "[Spark: RDD\n",
        "](https://cursos.alura.com.br/extra/alura-mais/spark-rdd-c1326)\n",
        "\n",
        "[Introdução ao Apache Spark\n",
        "](https://www.devmedia.com.br/introducao-ao-apache-spark/34178)\n",
        "\n",
        "[INTRODUÇÃO À COMPUTAÇÃO PARALELA E DITRIBUÍDA - Apache Spark](https://www.ime.usp.br/~gold/cursos/2015/MAC5742/slides/ApacheSpark.pdf)\n",
        "\n",
        "[Big Data com Apache Spark - Parte 1: Introdução\n",
        "](https://www.infoq.com/br/articles/apache-spark-introduction/)"
      ],
      "metadata": {
        "id": "otWPWO1Mtqsw"
      }
    },
    {
      "cell_type": "code",
      "execution_count": 19,
      "metadata": {
        "colab": {
          "base_uri": "https://localhost:8080/"
        },
        "id": "t4T6c4h2O2tH",
        "outputId": "6262d9ff-f445-4706-a85f-ced2c1824ab2"
      },
      "outputs": [
        {
          "output_type": "stream",
          "name": "stdout",
          "text": [
            "Requirement already satisfied: pyspark in /usr/local/lib/python3.7/dist-packages (3.2.1)\n",
            "Requirement already satisfied: py4j==0.10.9.3 in /usr/local/lib/python3.7/dist-packages (from pyspark) (0.10.9.3)\n"
          ]
        }
      ],
      "source": [
        "! pip install pyspark"
      ]
    },
    {
      "cell_type": "code",
      "source": [
        "from pyspark import SparkContext #responsável pela interação do código com o spark"
      ],
      "metadata": {
        "id": "XaMZSI_aO84c"
      },
      "execution_count": 20,
      "outputs": []
    },
    {
      "cell_type": "code",
      "source": [
        "sc = SparkContext() #início do contexto"
      ],
      "metadata": {
        "id": "x4QcS-PaPXVR"
      },
      "execution_count": 21,
      "outputs": []
    },
    {
      "cell_type": "code",
      "source": [
        "data = [1, 4, 0, 2, 7]"
      ],
      "metadata": {
        "id": "vPjwzeFhPEyb"
      },
      "execution_count": 22,
      "outputs": []
    },
    {
      "cell_type": "code",
      "source": [
        "RDD = sc.parallelize(data) #criação da abstração RDD - quebrando os dados em quantos nós forem necessários"
      ],
      "metadata": {
        "id": "L95U9q-SPpTp"
      },
      "execution_count": 23,
      "outputs": []
    },
    {
      "cell_type": "code",
      "source": [
        "RDD"
      ],
      "metadata": {
        "colab": {
          "base_uri": "https://localhost:8080/"
        },
        "id": "GM8mJGXiPwOh",
        "outputId": "4b454ad2-ff26-447f-f61d-76cff2108190"
      },
      "execution_count": 24,
      "outputs": [
        {
          "output_type": "execute_result",
          "data": {
            "text/plain": [
              "ParallelCollectionRDD[0] at readRDDFromFile at PythonRDD.scala:274"
            ]
          },
          "metadata": {},
          "execution_count": 24
        }
      ]
    },
    {
      "cell_type": "markdown",
      "source": [
        "**Ações**"
      ],
      "metadata": {
        "id": "tcZXBJn4vDZN"
      }
    },
    {
      "cell_type": "code",
      "source": [
        "RDD.collect() #exibe os dados - semelhante ao comando read ou display do pandas"
      ],
      "metadata": {
        "colab": {
          "base_uri": "https://localhost:8080/"
        },
        "id": "K65R1rOVQLyQ",
        "outputId": "c3aadaa3-c7e9-4e92-ed78-faaff4ee5eb8"
      },
      "execution_count": 25,
      "outputs": [
        {
          "output_type": "execute_result",
          "data": {
            "text/plain": [
              "[1, 4, 0, 2, 7]"
            ]
          },
          "metadata": {},
          "execution_count": 25
        }
      ]
    },
    {
      "cell_type": "code",
      "source": [
        "RDD.take(3) #retorna n elementos do RDD"
      ],
      "metadata": {
        "colab": {
          "base_uri": "https://localhost:8080/"
        },
        "id": "0ImwRPQRvDGI",
        "outputId": "b0ec9966-a162-4329-b642-5254ede37ed6"
      },
      "execution_count": 26,
      "outputs": [
        {
          "output_type": "execute_result",
          "data": {
            "text/plain": [
              "[1, 4, 0]"
            ]
          },
          "metadata": {},
          "execution_count": 26
        }
      ]
    },
    {
      "cell_type": "code",
      "source": [
        "RDD.reduce(lambda x, y: x + y) #operações elaboradas aproveitando o processamento distribuído"
      ],
      "metadata": {
        "colab": {
          "base_uri": "https://localhost:8080/"
        },
        "id": "wr8IH_SOQaSJ",
        "outputId": "9cdb1032-c2f2-44c7-ab60-c68cea65a6db"
      },
      "execution_count": 27,
      "outputs": [
        {
          "output_type": "execute_result",
          "data": {
            "text/plain": [
              "14"
            ]
          },
          "metadata": {},
          "execution_count": 27
        }
      ]
    },
    {
      "cell_type": "code",
      "source": [
        "RDD.count()"
      ],
      "metadata": {
        "colab": {
          "base_uri": "https://localhost:8080/"
        },
        "id": "gtD7NnyhQx1z",
        "outputId": "0e7825e4-236e-4bcb-e5f6-41d3431008ad"
      },
      "execution_count": 28,
      "outputs": [
        {
          "output_type": "execute_result",
          "data": {
            "text/plain": [
              "5"
            ]
          },
          "metadata": {},
          "execution_count": 28
        }
      ]
    },
    {
      "cell_type": "markdown",
      "source": [
        "**Transformações**"
      ],
      "metadata": {
        "id": "u5bC8aLgvfPg"
      }
    },
    {
      "cell_type": "code",
      "source": [
        "RDD.map(lambda x: x + 10) #o resultado não apareceu aqui porque as transformações não acontecem na RDD original"
      ],
      "metadata": {
        "colab": {
          "base_uri": "https://localhost:8080/"
        },
        "id": "KwvplyOGQ-jB",
        "outputId": "b2d67c32-23e8-4c05-f111-a403aa607bd3"
      },
      "execution_count": 29,
      "outputs": [
        {
          "output_type": "execute_result",
          "data": {
            "text/plain": [
              "PythonRDD[5] at RDD at PythonRDD.scala:53"
            ]
          },
          "metadata": {},
          "execution_count": 29
        }
      ]
    },
    {
      "cell_type": "code",
      "source": [
        "RDD.collect()"
      ],
      "metadata": {
        "colab": {
          "base_uri": "https://localhost:8080/"
        },
        "id": "kPMTeLR2RR_p",
        "outputId": "beef4bed-9545-4cef-af6d-939c2e739d7b"
      },
      "execution_count": 30,
      "outputs": [
        {
          "output_type": "execute_result",
          "data": {
            "text/plain": [
              "[1, 4, 0, 2, 7]"
            ]
          },
          "metadata": {},
          "execution_count": 30
        }
      ]
    },
    {
      "cell_type": "code",
      "source": [
        "RDD2 = RDD.map(lambda x: x + 10)"
      ],
      "metadata": {
        "id": "IZ0Df3hLRT5B"
      },
      "execution_count": 31,
      "outputs": []
    },
    {
      "cell_type": "code",
      "source": [
        "RDD2.collect()"
      ],
      "metadata": {
        "colab": {
          "base_uri": "https://localhost:8080/"
        },
        "id": "gfBcaaCYRW4R",
        "outputId": "a0696bce-3da4-4f14-fbe0-db841dcfcf66"
      },
      "execution_count": 32,
      "outputs": [
        {
          "output_type": "execute_result",
          "data": {
            "text/plain": [
              "[11, 14, 10, 12, 17]"
            ]
          },
          "metadata": {},
          "execution_count": 32
        }
      ]
    },
    {
      "cell_type": "code",
      "source": [
        "RDD3 = RDD.filter(lambda x: x%2 == 0) #verifica se o número é par (se a divisão de x por 2 resulta em 0)"
      ],
      "metadata": {
        "id": "1xxX5iloRbQQ"
      },
      "execution_count": 33,
      "outputs": []
    },
    {
      "cell_type": "code",
      "source": [
        "RDD3.collect()"
      ],
      "metadata": {
        "colab": {
          "base_uri": "https://localhost:8080/"
        },
        "id": "1edUx3lnSAT-",
        "outputId": "6317311b-ebcb-49ed-952b-1245360468d0"
      },
      "execution_count": 34,
      "outputs": [
        {
          "output_type": "execute_result",
          "data": {
            "text/plain": [
              "[4, 0, 2]"
            ]
          },
          "metadata": {},
          "execution_count": 34
        }
      ]
    },
    {
      "cell_type": "code",
      "source": [
        "sc.stop() #fim do contexto - boa prática"
      ],
      "metadata": {
        "id": "KpdHtB-ySMMy"
      },
      "execution_count": 35,
      "outputs": []
    }
  ]
}